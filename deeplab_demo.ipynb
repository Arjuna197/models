{
 "cells": [
  {
   "cell_type": "markdown",
   "metadata": {},
   "source": [
    "# DeepLab Demo\n",
    "\n",
    "This demo will demostrate the steps to run deeplab semantic segmentation model on sample input images.\n",
    "\n",
    "## Prerequisites\n",
    "\n",
    "Running this demo requires the following libraries:\n",
    "\n",
    "* Jupyter notebook (Python 2)\n",
    "* Tensorflow (>= v1.5.0)\n",
    "* Matplotlib\n",
    "* Pillow\n",
    "* numpy\n",
    "* ipywidgets (follow the setup [here](https://ipywidgets.readthedocs.io/en/stable/user_install.html))"
   ]
  },
  {
   "cell_type": "markdown",
   "metadata": {},
   "source": [
    "## Imports"
   ]
  },
  {
   "cell_type": "code",
   "execution_count": 11,
   "metadata": {},
   "outputs": [],
   "source": [
    "import collections\n",
    "import os\n",
    "import io\n",
    "#import StringIO\n",
    "import sys\n",
    "import tarfile\n",
    "import tempfile\n",
    "import glob\n",
    "import urllib\n",
    "import cv2\n",
    "\n",
    "from IPython import display\n",
    "from ipywidgets import interact\n",
    "from ipywidgets import interactive\n",
    "from matplotlib import gridspec\n",
    "from matplotlib import pyplot as plt\n",
    "import numpy as np\n",
    "from PIL import Image, ImageOps\n",
    "\n",
    "import tensorflow as tf\n",
    "\n",
    "if tf.__version__ < '1.5.0':\n",
    "    raise ImportError('Please upgrade your tensorflow installation to v1.5.0 or newer!')\n",
    "\n",
    "# Needed to show segmentation colormap labels\n",
    "sys.path.append('utils')\n",
    "import get_dataset_colormap"
   ]
  },
  {
   "cell_type": "markdown",
   "metadata": {},
   "source": [
    "## Select and download models"
   ]
  },
  {
   "cell_type": "code",
   "execution_count": 2,
   "metadata": {},
   "outputs": [
    {
     "data": {
      "application/vnd.jupyter.widget-view+json": {
       "model_id": "9f29f51d6ea3452a9a63eebb6bee73aa",
       "version_major": 2,
       "version_minor": 0
      },
      "text/html": [
       "<p>Failed to display Jupyter Widget of type <code>interactive</code>.</p>\n",
       "<p>\n",
       "  If you're reading this message in the Jupyter Notebook or JupyterLab Notebook, it may mean\n",
       "  that the widgets JavaScript is still loading. If this message persists, it\n",
       "  likely means that the widgets JavaScript library is either not installed or\n",
       "  not enabled. See the <a href=\"https://ipywidgets.readthedocs.io/en/stable/user_install.html\">Jupyter\n",
       "  Widgets Documentation</a> for setup instructions.\n",
       "</p>\n",
       "<p>\n",
       "  If you're reading this message in another frontend (for example, a static\n",
       "  rendering on GitHub or <a href=\"https://nbviewer.jupyter.org/\">NBViewer</a>),\n",
       "  it may mean that your frontend doesn't currently support widgets.\n",
       "</p>\n"
      ],
      "text/plain": [
       "interactive(children=(Dropdown(description='model_name', options=('xception_coco_voctrainaug', 'xception_coco_voctrainval'), value='xception_coco_voctrainaug'), Text(value='', description='model_dir'), Output()), _dom_classes=('widget-interact',))"
      ]
     },
     "metadata": {},
     "output_type": "display_data"
    }
   ],
   "source": [
    "_MODEL_URLS = {\n",
    "    'xception_coco_voctrainaug': 'http://download.tensorflow.org/models/deeplabv3_pascal_train_aug_2018_01_04.tar.gz',\n",
    "    'xception_coco_voctrainval': 'http://download.tensorflow.org/models/deeplabv3_pascal_trainval_2018_01_04.tar.gz',\n",
    "}\n",
    "\n",
    "Config = collections.namedtuple('Config', 'model_url, model_dir')\n",
    "\n",
    "def get_config(model_name, model_dir):\n",
    "    return Config(_MODEL_URLS[model_name], model_dir)\n",
    "\n",
    "config_widget = interactive(get_config, model_name=_MODEL_URLS.keys(), model_dir='')\n",
    "display.display(config_widget)"
   ]
  },
  {
   "cell_type": "code",
   "execution_count": 3,
   "metadata": {},
   "outputs": [],
   "source": [
    "# Check configuration and download the model\n",
    "\n",
    "_TARBALL_NAME = 'deeplab_model.tar.gz'\n",
    "\n",
    "config = config_widget.result\n",
    "\n",
    "model_dir = config.model_dir or tempfile.mkdtemp()\n",
    "tf.gfile.MakeDirs(model_dir)\n"
   ]
  },
  {
   "cell_type": "markdown",
   "metadata": {},
   "source": [
    "## Load model in TensorFlow"
   ]
  },
  {
   "cell_type": "code",
   "execution_count": 149,
   "metadata": {},
   "outputs": [],
   "source": [
    "_FROZEN_GRAPH_NAME = 'frozen_inference_graph'\n",
    "\n",
    "\n",
    "class DeepLabModel(object):\n",
    "    \"\"\"Class to load deeplab model and run inference.\"\"\"\n",
    "    \n",
    "    INPUT_TENSOR_NAME = 'ImageTensor:0'\n",
    "    OUTPUT_TENSOR_NAME = 'SemanticPredictions:0'\n",
    "    INPUT_SIZE = 513\n",
    "\n",
    "    def __init__(self, tarball_path):\n",
    "        \"\"\"Creates and loads pretrained deeplab model.\"\"\"\n",
    "        self.graph = tf.Graph()\n",
    "        \n",
    "        graph_def = None\n",
    "        # Extract frozen graph from tar archive.\n",
    "        tar_file = tarfile.open(tarball_path)\n",
    "        for tar_info in tar_file.getmembers():\n",
    "            if _FROZEN_GRAPH_NAME in os.path.basename(tar_info.name):\n",
    "                file_handle = tar_file.extractfile(tar_info)\n",
    "                graph_def = tf.GraphDef.FromString(file_handle.read())\n",
    "                break\n",
    "\n",
    "        tar_file.close()\n",
    "        \n",
    "        if graph_def is None:\n",
    "            raise RuntimeError('Cannot find inference graph in tar archive.')\n",
    "\n",
    "        with self.graph.as_default():      \n",
    "            tf.import_graph_def(graph_def, name='')\n",
    "        \n",
    "        self.sess = tf.Session(graph=self.graph)\n",
    "            \n",
    "    def run(self, image):\n",
    "        \"\"\"Runs inference on a single image.\n",
    "        \n",
    "        Args:\n",
    "            image: A PIL.Image object, raw input image.\n",
    "            \n",
    "        Returns:\n",
    "            resized_image: RGB image resized from original input image.\n",
    "            seg_map: Segmentation map of `resized_image`.\n",
    "        \"\"\"\n",
    "        width, height = image.size\n",
    "        resize_ratio = 1.0 * self.INPUT_SIZE / max(width, height)\n",
    "        target_size = (int(resize_ratio * width), int(resize_ratio * height))\n",
    "        resized_image = image.convert('RGB').resize(target_size, Image.ANTIALIAS)\n",
    "        #resized_image.save('resized.jpg')\n",
    "        batch_seg_map = self.sess.run(\n",
    "            self.OUTPUT_TENSOR_NAME,\n",
    "            feed_dict={self.INPUT_TENSOR_NAME: [np.asarray(resized_image)]})\n",
    "        seg_map = batch_seg_map[0]\n",
    "        return resized_image, seg_map\n"
   ]
  },
  {
   "cell_type": "code",
   "execution_count": 150,
   "metadata": {},
   "outputs": [
    {
     "name": "stdout",
     "output_type": "stream",
     "text": [
      "['models\\\\deeplabv3_cityscapes_train_2018_02_06.tar.gz', 'models\\\\deeplabv3_pascal_trainval_2018_01_04.tar.gz', 'models\\\\deeplabv3_pascal_train_aug_2018_01_04.tar.gz', 'models\\\\opencv', 'models\\\\opencv-3.4.1-vc14_vc15.exe']\n"
     ]
    }
   ],
   "source": [
    "print(glob.glob('models/*'))\n",
    "model = DeepLabModel(glob.glob('models/*')[1])"
   ]
  },
  {
   "cell_type": "markdown",
   "metadata": {},
   "source": [
    "## Helper methods"
   ]
  },
  {
   "cell_type": "code",
   "execution_count": 17,
   "metadata": {},
   "outputs": [],
   "source": [
    "LABEL_NAMES = np.asarray([\n",
    "    'background', 'aeroplane', 'bicycle', 'bird', 'boat', 'bottle',\n",
    "    'bus', 'car', 'cat', 'chair', 'cow', 'diningtable', 'dog',\n",
    "    'horse', 'motorbike', 'person', 'pottedplant', 'sheep', 'sofa',\n",
    "    'train', 'tv'\n",
    "])\n",
    "\n",
    "FULL_LABEL_MAP = np.arange(len(LABEL_NAMES)).reshape(len(LABEL_NAMES), 1)\n",
    "FULL_COLOR_MAP = get_dataset_colormap.label_to_color_image(FULL_LABEL_MAP)\n",
    "\n",
    "\n",
    "def vis_segmentation(image, seg_map):\n",
    "    plt.figure(figsize=(15, 5))\n",
    "    grid_spec = gridspec.GridSpec(1, 4, width_ratios=[6, 6, 6, 1])\n",
    "\n",
    "    plt.subplot(grid_spec[0])\n",
    "    plt.imshow(image)\n",
    "    plt.axis('off')\n",
    "    plt.title('input image')\n",
    "    \n",
    "    plt.subplot(grid_spec[1])\n",
    "    seg_image = get_dataset_colormap.label_to_color_image(\n",
    "        seg_map, get_dataset_colormap.get_pascal_name()).astype(np.uint8)\n",
    "    plt.imshow(seg_image)\n",
    "    plt.axis('off')\n",
    "    plt.title('segmentation map')\n",
    "\n",
    "    plt.subplot(grid_spec[2])\n",
    "    plt.imshow(image)\n",
    "    plt.imshow(seg_image, alpha=0.7)\n",
    "    plt.axis('off')\n",
    "    plt.title('segmentation overlay')\n",
    "    \n",
    "    unique_labels = np.unique(seg_map)\n",
    "    ax = plt.subplot(grid_spec[3])\n",
    "    plt.imshow(FULL_COLOR_MAP[unique_labels].astype(np.uint8), interpolation='nearest')\n",
    "    ax.yaxis.tick_right()\n",
    "    plt.yticks(range(len(unique_labels)), LABEL_NAMES[unique_labels])\n",
    "    plt.xticks([], [])\n",
    "    ax.tick_params(width=0)\n",
    "    plt.show()"
   ]
  },
  {
   "cell_type": "code",
   "execution_count": 18,
   "metadata": {},
   "outputs": [],
   "source": [
    "LABEL_NAMES = np.asarray([\n",
    "    'background', 'aeroplane', 'bicycle', 'bird', 'boat', 'bottle',\n",
    "    'bus', 'car', 'cat', 'chair', 'cow', 'diningtable', 'dog',\n",
    "    'horse', 'motorbike', 'person', 'pottedplant', 'sheep', 'sofa',\n",
    "    'train', 'tv'\n",
    "])\n",
    "\n",
    "FULL_LABEL_MAP = np.arange(len(LABEL_NAMES)).reshape(len(LABEL_NAMES), 1)\n",
    "FULL_COLOR_MAP = get_dataset_colormap.label_to_color_image(FULL_LABEL_MAP)\n",
    "\n",
    "\n",
    "def seg_save(image, seg_map, url):\n",
    "    #plt.figure(figsize=(15, 5))\n",
    "    #grid_spec = gridspec.GridSpec(1, 4, width_ratios=[6, 6, 6, 1])\n",
    "\n",
    "    #plt.subplot(grid_spec[0])\n",
    "    #plt.imshow(image)\n",
    "    #plt.axis('off')\n",
    "    #plt.title('input image')\n",
    "    \n",
    "    #plt.subplot(grid_spec[1])\n",
    "    seg_image = get_dataset_colormap.label_to_color_image(\n",
    "        seg_map, get_dataset_colormap.get_pascal_name()).astype(np.uint8)\n",
    "    Image.fromarray(seg_image.astype('uint8')).save(url[14:-4]+'_seg'+'.jpg')\n",
    "    #plt.imshow(seg_image)\n",
    "    #plt.axis('off')\n",
    "    #plt.title('segmentation map')\n",
    "\n",
    "    #plt.subplot(grid_spec[2])\n",
    "    #plt.imshow(image)\n",
    "    #plt.imshow(seg_image, alpha=0.7)\n",
    "    #plt.axis('off')\n",
    "    #plt.title('segmentation overlay')\n",
    "    \n",
    "    unique_labels = np.unique(seg_map)\n",
    "    #ax = plt.subplot(grid_spec[3])\n",
    "    #plt.imshow(FULL_COLOR_MAP[unique_labels].astype(np.uint8), interpolation='nearest')\n",
    "    #ax.yaxis.tick_right()\n",
    "    #plt.yticks(range(len(unique_labels)), LABEL_NAMES[unique_labels])\n",
    "    #plt.xticks([], [])\n",
    "    #ax.tick_params(width=0)\n",
    "    #plt.show()"
   ]
  },
  {
   "cell_type": "markdown",
   "metadata": {},
   "source": [
    "## Run on sample images"
   ]
  },
  {
   "cell_type": "code",
   "execution_count": 35,
   "metadata": {},
   "outputs": [
    {
     "data": {
      "application/vnd.jupyter.widget-view+json": {
       "model_id": "4040939df2404caa8d1c6655b75aa055",
       "version_major": 2,
       "version_minor": 0
      },
      "text/html": [
       "<p>Failed to display Jupyter Widget of type <code>interactive</code>.</p>\n",
       "<p>\n",
       "  If you're reading this message in the Jupyter Notebook or JupyterLab Notebook, it may mean\n",
       "  that the widgets JavaScript is still loading. If this message persists, it\n",
       "  likely means that the widgets JavaScript library is either not installed or\n",
       "  not enabled. See the <a href=\"https://ipywidgets.readthedocs.io/en/stable/user_install.html\">Jupyter\n",
       "  Widgets Documentation</a> for setup instructions.\n",
       "</p>\n",
       "<p>\n",
       "  If you're reading this message in another frontend (for example, a static\n",
       "  rendering on GitHub or <a href=\"https://nbviewer.jupyter.org/\">NBViewer</a>),\n",
       "  it may mean that your frontend doesn't currently support widgets.\n",
       "</p>\n"
      ],
      "text/plain": [
       "interactive(children=(Dropdown(description='image_name', options=('image1.jpg', 'image2.jpg', 'image3.jpg'), value='image1.jpg'), Output()), _dom_classes=('widget-interact',))"
      ]
     },
     "metadata": {},
     "output_type": "display_data"
    }
   ],
   "source": [
    "# Note that we are using single scale inference in the demo for fast\n",
    "# computation, so the results may slightly differ from the visualizations\n",
    "# in README, which uses multi-scale and left-right flipped inputs.\n",
    "\n",
    "IMAGE_DIR = 'g3doc/img'\n",
    "\n",
    "def run_demo_image(image_name):\n",
    "    try:\n",
    "        image_path = os.path.join(IMAGE_DIR, image_name)\n",
    "        orignal_im = Image.open(image_path)\n",
    "    except IOError:\n",
    "        print( 'Failed to read image from %s.' % image_path )\n",
    "        return \n",
    "    print( 'running deeplab on image %s...' % image_name)\n",
    "    resized_im, seg_map = model.run(orignal_im)\n",
    "    \n",
    "    vis_segmentation(resized_im, seg_map)\n",
    "\n",
    "_ = interact(run_demo_image, image_name=['image1.jpg', 'image2.jpg', 'image3.jpg'])"
   ]
  },
  {
   "cell_type": "markdown",
   "metadata": {},
   "source": [
    "## Run on internet images"
   ]
  },
  {
   "cell_type": "code",
   "execution_count": 9,
   "metadata": {
    "scrolled": true
   },
   "outputs": [
    {
     "data": {
      "application/vnd.jupyter.widget-view+json": {
       "model_id": "83c3a7087ecc45998fe10a84194c52c8",
       "version_major": 2,
       "version_minor": 0
      },
      "text/html": [
       "<p>Failed to display Jupyter Widget of type <code>interactive</code>.</p>\n",
       "<p>\n",
       "  If you're reading this message in the Jupyter Notebook or JupyterLab Notebook, it may mean\n",
       "  that the widgets JavaScript is still loading. If this message persists, it\n",
       "  likely means that the widgets JavaScript library is either not installed or\n",
       "  not enabled. See the <a href=\"https://ipywidgets.readthedocs.io/en/stable/user_install.html\">Jupyter\n",
       "  Widgets Documentation</a> for setup instructions.\n",
       "</p>\n",
       "<p>\n",
       "  If you're reading this message in another frontend (for example, a static\n",
       "  rendering on GitHub or <a href=\"https://nbviewer.jupyter.org/\">NBViewer</a>),\n",
       "  it may mean that your frontend doesn't currently support widgets.\n",
       "</p>\n"
      ],
      "text/plain": [
       "interactive(children=(Text(value='', description='url'), Output()), _dom_classes=('widget-interact',))"
      ]
     },
     "metadata": {},
     "output_type": "display_data"
    }
   ],
   "source": [
    "def get_an_internet_image(url):\n",
    "    if not url:\n",
    "        return\n",
    "\n",
    "    try:\n",
    "        # Prefix with 'file://' for local file.\n",
    "        #if os.path.exists(url):\n",
    "            #url = 'file://' + url\n",
    "        f = urllib.request.urlopen(url)\n",
    "        jpeg_str = f.read()\n",
    "    except IOError:\n",
    "        print(( 'invalid url: ' + url))\n",
    "        return\n",
    "\n",
    "    orignal_im = Image.open(io.BytesIO(jpeg_str))\n",
    "    #print( 'running deeplab on image %s...' % url)\n",
    "    resized_im, seg_map = model.run(orignal_im)\n",
    "    Image.fromarray(seg_map.astype('uint8')).save(url[14:-4]+'_seg'+'.jpg')\n",
    "    resized_im.save(url[14:])\n",
    "    #print(seg_map.dtype)\n",
    "    #seg_save(resized_im, seg_map, url)\n",
    "    #vis_segmentation(resized_im, seg_map)\n",
    "\n",
    "_ = interact(get_an_internet_image, url='')"
   ]
  },
  {
   "cell_type": "code",
   "execution_count": 117,
   "metadata": {},
   "outputs": [],
   "source": [
    "def cropImages(url):\n",
    "    img1 = cv2.imread(url)\n",
    "    y, x, _ = img1.shape\n",
    "    index = []\n",
    "    #ger = []\n",
    "    print(int(y/513))\n",
    "    for i in range(int(y/513)):\n",
    "        index.append([])\n",
    "        for j in range(int(x/513)):\n",
    "            index[i].append(img1[i*513:(i+1)*513, j*513:(j+1)*513])\n",
    "            #ger.append(((i*513, (i+1)*513),(j*513,(j+1)*513)))\n",
    "            if(j+2>int(x/513)):\n",
    "                index[i].append(img1[i*513:(i+1)*513, (j+1)*513:])\n",
    "            \"\"\"if(i+2>int(y/513)):\n",
    "                index[i].append(img1[(i+1)*513:,j*513:(j+1)*513])\n",
    "                if(j+2>int(x/513)):\n",
    "                    index[i].append(img1[(i+1)*513:,(j+1)*513:])\"\"\"\n",
    "    index.append([])\n",
    "    for j in range(int(x/513)):\n",
    "        index[3].append(img1[(3)*513:,j*513:(j+1)*513])\n",
    "    index[3].append(img1[(i+1)*513:,(j+1)*513:])\n",
    "    return index"
   ]
  },
  {
   "cell_type": "code",
   "execution_count": 164,
   "metadata": {},
   "outputs": [],
   "source": [
    "def cropImages2(image):\n",
    "    index = {}\n",
    "    for y in range(0,800, 513):\n",
    "        for x in range(0,2400, 513):\n",
    "            if(x+513>2400):\n",
    "                if(y+513>800):\n",
    "                    img = image[y:+513,x:]\n",
    "                    _, seg_map = model.run(Image.fromarray(img))\n",
    "                    ind = (seg_map==0)\n",
    "                    image[y:,x:] = img[ind]=0\n",
    "                else:\n",
    "                    img = image[y:y+513,x:]\n",
    "                    _, seg_map = model.run(Image.fromarray(img))\n",
    "                    ind = (seg_map==0)\n",
    "                    image[y:y+513,x:] = img[ind]=0\n",
    "            elif(y+513>800):\n",
    "                img = image[y:, x:x+513]\n",
    "                _, seg_map = model.run(Image.fromarray(img))\n",
    "                ind = (seg_map==0)\n",
    "                image[y:, x:x+513] = img[ind]=0\n",
    "            else:\n",
    "                img = image[y:y+513,x:x+513]\n",
    "                _, seg_map = model.run(Image.fromarray(img))\n",
    "                ind = (seg_map==0)\n",
    "                image[y:y+513,x:x+513] = img[ind]=0\n",
    "            #print(img.shape)\n",
    "            \n",
    "            \n",
    "            \n",
    "    return image"
   ]
  },
  {
   "cell_type": "code",
   "execution_count": 173,
   "metadata": {},
   "outputs": [
    {
     "name": "stderr",
     "output_type": "stream",
     "text": [
      "C:\\Users\\danim\\Anaconda3\\lib\\site-packages\\ipykernel_launcher.py:8: DeprecationWarning: The binary mode of fromstring is deprecated, as it behaves surprisingly on unicode inputs. Use frombuffer instead\n",
      "  \n"
     ]
    }
   ],
   "source": [
    "vid = cv2.VideoCapture('cam1.mp4')\n",
    "count = 0\n",
    "success = True\n",
    "while success and count<=10000:\n",
    "    success,image = vid.read()\n",
    "    if count%50==0:\n",
    "        img, seg_map = model.run(Image.fromarray(image))\n",
    "        im_arr = np.fromstring(img.tobytes(), dtype=np.uint8)\n",
    "        im_arr = im_arr.reshape((img.size[1], img.size[0], 3)) \n",
    "        ind = (seg_map==0)\n",
    "        copy = np.asarray(im_arr)\n",
    "        copy[ind]=0\n",
    "        #image = cropImages2(image)\n",
    "        cv2.imwrite('sequence\\\\frame%d.jpg'%count,copy)\n",
    "    count+=1\n",
    "    "
   ]
  },
  {
   "cell_type": "code",
   "execution_count": 168,
   "metadata": {},
   "outputs": [
    {
     "name": "stdout",
     "output_type": "stream",
     "text": [
      "3\n",
      "(513, 513, 3)\n",
      "(513, 513, 3)\n",
      "(513, 513, 3)\n",
      "(513, 513, 3)\n",
      "(513, 513, 3)\n",
      "(513, 513, 3)\n",
      "(513, 513, 3)\n",
      "(513, 513, 3)\n",
      "(513, 513, 3)\n",
      "(513, 513, 3)\n",
      "(513, 513, 3)\n",
      "(513, 513, 3)\n"
     ]
    }
   ],
   "source": [
    "#get_an_internet_image(\"file:\"+glob.glob('sequence/*')[0])\n",
    "\n",
    "\n",
    "for url in glob.glob('sequence/*.jpg')[:1]:\n",
    "    images = cropImages(url)\n",
    "    #print(len(images[2]))\n",
    "    for i in range(len(images)-1):\n",
    "        for j in range(len(images[0])-1):\n",
    "            img, seg_map = model.run(Image.fromarray(images[i][j]))         \n",
    "            im_arr = np.frombuffer(img.tobytes(), dtype=np.uint8)\n",
    "            im_arr = im_arr.reshape((img.size[1], img.size[0], 3))                                   \n",
    "            #print(img.size)\n",
    "            print(im_arr.shape)\n",
    "            ind = (seg_map==0)\n",
    "            images[i][j][ind] = 0\n",
    "    a=np.concatenate((images[0][0],images[0][1],images[0][2],images[0][3]),1)\n",
    "    b=np.concatenate((images[1][0],images[1][1],images[1][2],images[1][3]),1)\n",
    "    c=np.concatenate((images[2][0],images[2][1],images[2][2],images[2][3]),1)\n",
    "    d=np.concatenate((a,b,c),0)\n",
    "    Image.fromarray(d).save(url)"
   ]
  },
  {
   "cell_type": "code",
   "execution_count": 134,
   "metadata": {},
   "outputs": [
    {
     "name": "stdout",
     "output_type": "stream",
     "text": [
      "at i:3 j:0\n",
      "(513, 513, 3)\n",
      "at i:3 j:1\n",
      "(513, 513, 3)\n",
      "at i:3 j:2\n",
      "(513, 513, 3)\n",
      "at i:3 j:3\n",
      "(513, 513, 3)\n",
      "at i:3 j:4\n",
      "(513, 348, 3)\n",
      "(1539, 2052, 3)\n"
     ]
    },
    {
     "data": {
      "text/plain": [
       "<matplotlib.image.AxesImage at 0x2b04d03a518>"
      ]
     },
     "execution_count": 134,
     "metadata": {},
     "output_type": "execute_result"
    },
    {
     "data": {
      "image/png": "[encoded data removed]",
      "text/plain": [
       "<matplotlib.figure.Figure at 0x2b032432198>"
      ]
     },
     "metadata": {},
     "output_type": "display_data"
    }
   ],
   "source": [
    "\"\"\"y, x = seg_map.shape\n",
    "for i in range(y):\n",
    "    for j in range(x):\n",
    "        if seg_map[i,j]>1:\n",
    "            #print((i,j))\n",
    "            seg_map[i,j]=99\"\"\"\n",
    "a=np.concatenate((images[0][0],images[0][1],images[0][2],images[0][3]),1)\n",
    "b=np.concatenate((images[1][0],images[1][1],images[1][2],images[1][3]),1)\n",
    "c=np.concatenate((images[2][0],images[2][1],images[2][2],images[2][3]),1)\n",
    "d=np.concatenate((a,b,c),0)\n",
    "print(d.shape)\n",
    "plt.imshow(d)"
   ]
  },
  {
   "cell_type": "code",
   "execution_count": 7,
   "metadata": {},
   "outputs": [
    {
     "name": "stdout",
     "output_type": "stream",
     "text": [
      "['cam1000.jpg', 'cam1000_seg.jpg']\n",
      "L\n",
      "RGBA\n"
     ]
    }
   ],
   "source": [
    "#for url in glob.glob('*.jpg'):\n",
    "images = glob.glob('*.jpg')\n",
    "print(images[0:2])\n",
    "mask = Image.open(images[1])\n",
    "mask2 = mask.convert('L')\n",
    "t2 = Image.open(images[0]).convert('RGBA')\n",
    "#mask2 = ImageOps.invert(mask2)\n",
    "print(mask.mode)\n",
    "print(t2.mode)\n",
    "t2.save('rbefore.png')\n",
    "t2.putalpha(mask2)\n",
    "mask2.save('rthemask.png')\n",
    "t2.save('result.png')"
   ]
  }
 ],
 "metadata": {
  "kernelspec": {
   "display_name": "Python 3",
   "language": "python",
   "name": "python3"
  },
  "language_info": {
   "codemirror_mode": {
    "name": "ipython",
    "version": 3
   },
   "file_extension": ".py",
   "mimetype": "text/x-python",
   "name": "python",
   "nbconvert_exporter": "python",
   "pygments_lexer": "ipython3",
   "version": "3.6.4"
  }
 },
 "nbformat": 4,
 "nbformat_minor": 2
}
